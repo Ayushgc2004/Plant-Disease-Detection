{
 "cells": [
  {
   "cell_type": "code",
   "execution_count": 1,
   "id": "ba31710a",
   "metadata": {},
   "outputs": [],
   "source": [
    "from tensorflow.keras.models import load_model\n",
    "import tensorflow as tf\n",
    "from tensorflow.keras.layers.experimental.preprocessing import Rescaling\n",
    "import cv2\n",
    "import numpy as np"
   ]
  },
  {
   "cell_type": "code",
   "execution_count": 2,
   "id": "004743da",
   "metadata": {},
   "outputs": [],
   "source": [
    "model = load_model('F:/Dataset/NewModel.h5')"
   ]
  },
  {
   "cell_type": "code",
   "execution_count": 3,
   "id": "e608f10d",
   "metadata": {},
   "outputs": [],
   "source": [
    "image=cv2.imread(\"F:/Dataset/train/Apple___Cedar_apple_rust/0cd24b0c-0a9d-483f-8734-5c08988e029f___FREC_C.Rust 3762.JPG\")"
   ]
  },
  {
   "cell_type": "code",
   "execution_count": 4,
   "id": "c51dfd85",
   "metadata": {},
   "outputs": [],
   "source": [
    "image=cv2.resize(image,(224,224))"
   ]
  },
  {
   "cell_type": "code",
   "execution_count": 5,
   "id": "8b926475",
   "metadata": {},
   "outputs": [],
   "source": [
    "image=image[np.newaxis, ...]"
   ]
  },
  {
   "cell_type": "code",
   "execution_count": 6,
   "id": "d5bd9d86",
   "metadata": {},
   "outputs": [
    {
     "name": "stdout",
     "output_type": "stream",
     "text": [
      "(1, 224, 224, 3)\n"
     ]
    }
   ],
   "source": [
    "print(image.shape)"
   ]
  },
  {
   "cell_type": "code",
   "execution_count": 7,
   "id": "5b17c5fe",
   "metadata": {},
   "outputs": [
    {
     "name": "stdout",
     "output_type": "stream",
     "text": [
      "1/1 [==============================] - 3s 3s/step\n"
     ]
    }
   ],
   "source": [
    "x=model.predict(image)"
   ]
  },
  {
   "cell_type": "code",
   "execution_count": 8,
   "id": "25ab0a13",
   "metadata": {},
   "outputs": [
    {
     "name": "stdout",
     "output_type": "stream",
     "text": [
      "[[3.88634617e-05 3.83536611e-03 9.96112287e-01 7.40080714e-06\n",
      "  4.62259363e-11 1.50700339e-06 1.06191715e-10 2.96204394e-08\n",
      "  3.14500370e-10 1.37445166e-09 1.56929122e-11 3.13239343e-06\n",
      "  1.29957645e-08 1.43619445e-08 1.02125242e-08 1.05218313e-10\n",
      "  3.32761886e-07 1.67779596e-10 2.06921191e-09 1.45415652e-10\n",
      "  1.99971240e-09 4.24662602e-07 1.29954369e-09 1.52253390e-10\n",
      "  1.00639352e-09 4.59496299e-08 3.93845045e-09 3.82335032e-11\n",
      "  1.22808444e-07 1.89478166e-09 9.18857701e-09 1.09002260e-11\n",
      "  4.53929772e-07 8.98319891e-11 3.83565957e-10 1.11454290e-10\n",
      "  8.20235026e-12 6.99871133e-11]]\n"
     ]
    }
   ],
   "source": [
    "print(x)"
   ]
  },
  {
   "cell_type": "code",
   "execution_count": 9,
   "id": "3971e5b4",
   "metadata": {},
   "outputs": [
    {
     "data": {
      "text/plain": [
       "2"
      ]
     },
     "execution_count": 9,
     "metadata": {},
     "output_type": "execute_result"
    }
   ],
   "source": [
    "np.argmax(x)"
   ]
  },
  {
   "cell_type": "code",
   "execution_count": 10,
   "id": "71b9db5d",
   "metadata": {},
   "outputs": [],
   "source": [
    "l = ['Apple___Apple_scab',\n",
    "         'Apple___Black_rot',\n",
    "         'Apple___Cedar_apple_rust',\n",
    "         'Apple___healthy',\n",
    "         'Blueberry___healthy',\n",
    "         'Cherry_(including_sour)___Powdery_mildew',\n",
    "         'Cherry_(including_sour)___healthy',\n",
    "         'Corn_(maize)___Cercospora_leaf_spot Gray_leaf_spot',\n",
    "         'Corn_(maize)___Common_rust_',\n",
    "         'Corn_(maize)___Northern_Leaf_Blight',\n",
    "         'Corn_(maize)___healthy',\n",
    "         'Grape___Black_rot',\n",
    "         'Grape___Esca_(Black_Measles)',\n",
    "         'Grape___Leaf_blight_(Isariopsis_Leaf_Spot)',\n",
    "         'Grape___healthy',\n",
    "         'Orange___Haunglongbing_(Citrus_greening)',\n",
    "         'Peach___Bacterial_spot',\n",
    "         'Peach___healthy',\n",
    "         'Pepper,_bell___Bacterial_spot',\n",
    "         'Pepper,_bell___healthy',\n",
    "         'Potato___Early_blight',\n",
    "         'Potato___Late_blight',\n",
    "         'Potato___healthy',\n",
    "         'Raspberry___healthy',\n",
    "         'Soybean___healthy',\n",
    "         'Squash___Powdery_mildew',\n",
    "         'Strawberry___Leaf_scorch',\n",
    "         'Strawberry___healthy',\n",
    "         'Tomato___Bacterial_spot',\n",
    "         'Tomato___Early_blight',\n",
    "         'Tomato___Late_blight',\n",
    "         'Tomato___Leaf_Mold',\n",
    "         'Tomato___Septoria_leaf_spot',\n",
    "         'Tomato___Spider_mites Two-spotted_spider_mite',\n",
    "         'Tomato___Target_Spot',\n",
    "         'Tomato___Tomato_Yellow_Leaf_Curl_Virus',\n",
    "         'Tomato___Tomato_mosaic_virus',\n",
    "         'Tomato___healthy']"
   ]
  },
  {
   "cell_type": "code",
   "execution_count": 11,
   "id": "d5a31900",
   "metadata": {},
   "outputs": [
    {
     "name": "stdout",
     "output_type": "stream",
     "text": [
      "Apple___Cedar_apple_rust\n"
     ]
    }
   ],
   "source": [
    "print(l[np.argmax(x)])"
   ]
  },
  {
   "cell_type": "code",
   "execution_count": 12,
   "id": "0a215117",
   "metadata": {},
   "outputs": [],
   "source": [
    "from PIL import Image\n",
    "import os\n",
    "import matplotlib.pyplot as plt\n",
    "# Directory containing your images\n",
    "image_directory = 'F:/Dataset/test2'\n",
    "x=0\n",
    "# Iterate through the images in the directory\n",
    "for filename in os.listdir(image_directory):\n",
    "    if filename.endswith(('.PNG', '.JPG', '.JPEG')):\n",
    "        # Construct the full path to the image\n",
    "        image_path = os.path.join(image_directory, filename)\n",
    "\n",
    "        # Open the image\n",
    "        img = Image.open(image_path)\n",
    "\n",
    "        # Display the image in the notebook\n",
    "        plt.imshow(img)\n",
    "        plt.title(f\"Image: {filename}\")\n",
    "        plt.axis('off')\n",
    "        plt.show()\n",
    "        model\n",
    "        x=np.argmax()\n",
    "        print(class_names[x])\n",
    "        x+=1"
   ]
  },
  {
   "cell_type": "code",
   "execution_count": null,
   "id": "7566cb06",
   "metadata": {},
   "outputs": [],
   "source": []
  }
 ],
 "metadata": {
  "kernelspec": {
   "display_name": "Python 3 (ipykernel)",
   "language": "python",
   "name": "python3"
  },
  "language_info": {
   "codemirror_mode": {
    "name": "ipython",
    "version": 3
   },
   "file_extension": ".py",
   "mimetype": "text/x-python",
   "name": "python",
   "nbconvert_exporter": "python",
   "pygments_lexer": "ipython3",
   "version": "3.11.5"
  }
 },
 "nbformat": 4,
 "nbformat_minor": 5
}
